{
 "cells": [
  {
   "cell_type": "code",
   "execution_count": 1,
   "id": "6073faad-7423-452e-9c77-1b7b2a3afcb8",
   "metadata": {},
   "outputs": [],
   "source": [
    "# Encoding\n",
    "from sklearn.feature_extraction.text import TfidfVectorizer, CountVectorizer\n",
    "from sklearn.preprocessing import LabelEncoder\n",
    "# models\n",
    "from sklearn.naive_bayes import BernoulliNB, MultinomialNB\n",
    "from sklearn.svm import SVC\n",
    "from sklearn.ensemble import RandomForestClassifier\n",
    "from sklearn.linear_model import LogisticRegression\n",
    "from sklearn.neighbors import KNeighborsClassifier\n",
    "from sklearn.tree import DecisionTreeClassifier\n",
    "from xgboost import XGBClassifier\n",
    "\n",
    "# model evaluation\n",
    "from sklearn.model_selection import cross_val_score, cross_validate, StratifiedKFold, train_test_split, GridSearchCV\n",
    "from sklearn.metrics import confusion_matrix, classification_report, ConfusionMatrixDisplay\n",
    "\n",
    "# ploting\n",
    "import seaborn as sns\n",
    "import matplotlib.pyplot as plt\n",
    "\n",
    "# utils\n",
    "import pandas as pd\n",
    "import numpy as np\n",
    "\n",
    "import ast\n",
    "from collections import defaultdict"
   ]
  },
  {
   "cell_type": "markdown",
   "id": "a0a0fe09-3bfd-4875-9f63-4eb803af55c5",
   "metadata": {},
   "source": [
    "## Data Loading"
   ]
  },
  {
   "cell_type": "code",
   "execution_count": 2,
   "id": "622bcb5f-2f75-425b-9aa1-69887db80711",
   "metadata": {},
   "outputs": [],
   "source": [
    "dataset = 'data/sncb_data_challenge.csv'\n",
    "df = pd.read_csv(dataset, delimiter=';')"
   ]
  },
  {
   "cell_type": "code",
   "execution_count": 3,
   "id": "c7d49f1e-f571-4d1e-a099-b7af66036d71",
   "metadata": {},
   "outputs": [
    {
     "name": "stdout",
     "output_type": "stream",
     "text": [
      "<class 'pandas.core.frame.DataFrame'>\n",
      "RangeIndex: 1011 entries, 0 to 1010\n",
      "Data columns (total 11 columns):\n",
      " #   Column                        Non-Null Count  Dtype  \n",
      "---  ------                        --------------  -----  \n",
      " 0   Unnamed: 0                    1011 non-null   int64  \n",
      " 1   incident_id                   1011 non-null   int64  \n",
      " 2   vehicles_sequence             1011 non-null   object \n",
      " 3   events_sequence               1011 non-null   object \n",
      " 4   seconds_to_incident_sequence  1011 non-null   object \n",
      " 5   approx_lat                    1011 non-null   float64\n",
      " 6   approx_lon                    1011 non-null   float64\n",
      " 7   train_kph_sequence            1011 non-null   object \n",
      " 8   dj_ac_state_sequence          1011 non-null   object \n",
      " 9   dj_dc_state_sequence          1011 non-null   object \n",
      " 10  incident_type                 1011 non-null   int64  \n",
      "dtypes: float64(2), int64(3), object(6)\n",
      "memory usage: 87.0+ KB\n"
     ]
    }
   ],
   "source": [
    "df.info()"
   ]
  },
  {
   "cell_type": "markdown",
   "id": "16e5da2b-5302-4851-93e5-ec0915cc3be8",
   "metadata": {},
   "source": [
    "+ No missing values\n",
    "+ sequences features"
   ]
  },
  {
   "cell_type": "code",
   "execution_count": 4,
   "id": "faa1238b-af54-44f5-a57c-e7b2d14ee5b7",
   "metadata": {},
   "outputs": [],
   "source": [
    "# Drop unused/irrelevant columns\n",
    "df = df[['incident_type', 'events_sequence', 'train_kph_sequence', 'dj_ac_state_sequence', 'dj_dc_state_sequence']]\n",
    "\n",
    "# convert strings representing lists into actual python lists\n",
    "df['events_sequence'] = df['events_sequence'].apply(ast.literal_eval)\n",
    "df['train_kph_sequence'] = df['train_kph_sequence'].apply(ast.literal_eval)\n",
    "df['dj_ac_state_sequence'] = df['dj_ac_state_sequence'].apply(ast.literal_eval)\n",
    "df['dj_dc_state_sequence'] = df['dj_dc_state_sequence'].apply(ast.literal_eval)"
   ]
  },
  {
   "cell_type": "markdown",
   "id": "4c3c5718-001c-47a8-8128-ffea0f7dcc8f",
   "metadata": {},
   "source": [
    "## EDA"
   ]
  },
  {
   "cell_type": "code",
   "execution_count": 5,
   "id": "b1b61c4b-017f-467f-9b49-669f9f71deaa",
   "metadata": {},
   "outputs": [
    {
     "data": {
      "text/html": [
       "<div>\n",
       "<style scoped>\n",
       "    .dataframe tbody tr th:only-of-type {\n",
       "        vertical-align: middle;\n",
       "    }\n",
       "\n",
       "    .dataframe tbody tr th {\n",
       "        vertical-align: top;\n",
       "    }\n",
       "\n",
       "    .dataframe thead th {\n",
       "        text-align: right;\n",
       "    }\n",
       "</style>\n",
       "<table border=\"1\" class=\"dataframe\">\n",
       "  <thead>\n",
       "    <tr style=\"text-align: right;\">\n",
       "      <th></th>\n",
       "      <th>incident_type</th>\n",
       "      <th>events_sequence</th>\n",
       "      <th>train_kph_sequence</th>\n",
       "      <th>dj_ac_state_sequence</th>\n",
       "      <th>dj_dc_state_sequence</th>\n",
       "    </tr>\n",
       "  </thead>\n",
       "  <tbody>\n",
       "    <tr>\n",
       "      <th>0</th>\n",
       "      <td>4</td>\n",
       "      <td>[2744, 4004, 2852, 4110, 2854, 4396, 1132, 414...</td>\n",
       "      <td>[0.0, 0.0, 0.0, 0.0, 0.0, 0.0, 0.0, 0.0, 0.0, ...</td>\n",
       "      <td>[False, False, False, False, False, False, Fal...</td>\n",
       "      <td>[False, False, False, False, False, False, Fal...</td>\n",
       "    </tr>\n",
       "    <tr>\n",
       "      <th>1</th>\n",
       "      <td>13</td>\n",
       "      <td>[2744, 4148, 4394, 1566, 1570, 4396, 3634, 412...</td>\n",
       "      <td>[0.0, 0.0, 0.0, 0.0, 0.0, 0.0, 0.0, 0.0, 29.1,...</td>\n",
       "      <td>[False, False, False, False, False, False, Fal...</td>\n",
       "      <td>[True, True, True, True, True, True, True, Tru...</td>\n",
       "    </tr>\n",
       "    <tr>\n",
       "      <th>2</th>\n",
       "      <td>14</td>\n",
       "      <td>[4394, 1566, 1570, 4114, 4168, 4168, 4156, 406...</td>\n",
       "      <td>[0.0, 0.0, 0.0, 0.0, 0.0, 0.0, 0.0, 0.0, 0.0, ...</td>\n",
       "      <td>[False, False, False, False, False, False, Fal...</td>\n",
       "      <td>[True, True, True, True, True, False, True, Tr...</td>\n",
       "    </tr>\n",
       "    <tr>\n",
       "      <th>3</th>\n",
       "      <td>2</td>\n",
       "      <td>[4066, 4066, 4066, 4066, 4068, 2742, 4026, 270...</td>\n",
       "      <td>[0.0, 0.0, 0.0, 0.015625, 0.0, 0.0, 0.0, 0.0, ...</td>\n",
       "      <td>[False, False, False, False, False, False, Fal...</td>\n",
       "      <td>[True, True, True, True, True, True, True, Tru...</td>\n",
       "    </tr>\n",
       "    <tr>\n",
       "      <th>4</th>\n",
       "      <td>14</td>\n",
       "      <td>[4002, 4032, 4028, 2852, 4026, 4110, 2742, 285...</td>\n",
       "      <td>[0.0, 0.0, 0.0, 0.0, 0.0, 0.0, 0.0, 0.0, 0.0, ...</td>\n",
       "      <td>[False, False, False, False, False, False, Fal...</td>\n",
       "      <td>[False, False, False, False, False, False, Fal...</td>\n",
       "    </tr>\n",
       "  </tbody>\n",
       "</table>\n",
       "</div>"
      ],
      "text/plain": [
       "   incident_type                                    events_sequence  \\\n",
       "0              4  [2744, 4004, 2852, 4110, 2854, 4396, 1132, 414...   \n",
       "1             13  [2744, 4148, 4394, 1566, 1570, 4396, 3634, 412...   \n",
       "2             14  [4394, 1566, 1570, 4114, 4168, 4168, 4156, 406...   \n",
       "3              2  [4066, 4066, 4066, 4066, 4068, 2742, 4026, 270...   \n",
       "4             14  [4002, 4032, 4028, 2852, 4026, 4110, 2742, 285...   \n",
       "\n",
       "                                  train_kph_sequence  \\\n",
       "0  [0.0, 0.0, 0.0, 0.0, 0.0, 0.0, 0.0, 0.0, 0.0, ...   \n",
       "1  [0.0, 0.0, 0.0, 0.0, 0.0, 0.0, 0.0, 0.0, 29.1,...   \n",
       "2  [0.0, 0.0, 0.0, 0.0, 0.0, 0.0, 0.0, 0.0, 0.0, ...   \n",
       "3  [0.0, 0.0, 0.0, 0.015625, 0.0, 0.0, 0.0, 0.0, ...   \n",
       "4  [0.0, 0.0, 0.0, 0.0, 0.0, 0.0, 0.0, 0.0, 0.0, ...   \n",
       "\n",
       "                                dj_ac_state_sequence  \\\n",
       "0  [False, False, False, False, False, False, Fal...   \n",
       "1  [False, False, False, False, False, False, Fal...   \n",
       "2  [False, False, False, False, False, False, Fal...   \n",
       "3  [False, False, False, False, False, False, Fal...   \n",
       "4  [False, False, False, False, False, False, Fal...   \n",
       "\n",
       "                                dj_dc_state_sequence  \n",
       "0  [False, False, False, False, False, False, Fal...  \n",
       "1  [True, True, True, True, True, True, True, Tru...  \n",
       "2  [True, True, True, True, True, False, True, Tr...  \n",
       "3  [True, True, True, True, True, True, True, Tru...  \n",
       "4  [False, False, False, False, False, False, Fal...  "
      ]
     },
     "execution_count": 5,
     "metadata": {},
     "output_type": "execute_result"
    }
   ],
   "source": [
    "df.head()"
   ]
  },
  {
   "cell_type": "code",
   "execution_count": 6,
   "id": "c0806e8f-29d5-44ad-ad9e-3eb4e935abcd",
   "metadata": {},
   "outputs": [
    {
     "data": {
      "text/plain": [
       "incident_type\n",
       "13    318\n",
       "99    175\n",
       "14    149\n",
       "2     119\n",
       "9     117\n",
       "4      78\n",
       "11     26\n",
       "17     10\n",
       "6       6\n",
       "3       5\n",
       "16      4\n",
       "7       4\n",
       "Name: count, dtype: int64"
      ]
     },
     "execution_count": 6,
     "metadata": {},
     "output_type": "execute_result"
    }
   ],
   "source": [
    "df['incident_type'].value_counts()"
   ]
  },
  {
   "cell_type": "code",
   "execution_count": 7,
   "id": "baf32e12-52a7-48b4-bac5-7bed5e02f1d6",
   "metadata": {},
   "outputs": [
    {
     "data": {
      "text/plain": [
       "<Axes: xlabel='incident_type'>"
      ]
     },
     "execution_count": 7,
     "metadata": {},
     "output_type": "execute_result"
    },
    {
     "data": {
      "image/png": "[encoded data removed]",
      "text/plain": [
       "<Figure size 640x480 with 1 Axes>"
      ]
     },
     "metadata": {},
     "output_type": "display_data"
    }
   ],
   "source": [
    "df['incident_type'].value_counts().plot(kind= 'bar')"
   ]
  },
  {
   "cell_type": "markdown",
   "id": "a939b672-9e7d-4150-9b67-78d0c5cf53ef",
   "metadata": {},
   "source": [
    "Imbalanced  dataset"
   ]
  },
  {
   "cell_type": "markdown",
   "id": "81475f94-6794-4e82-8158-d9d4b4c44942",
   "metadata": {},
   "source": [
    "## Encodings\n",
    "We consider the problem as a **text classification**, with the events sequence as tokenized texts.\n",
    "We will try 2 encodings of this text:\n",
    "\n",
    "+ tfidf\n",
    "+ one-hot"
   ]
  },
  {
   "cell_type": "code",
   "execution_count": 8,
   "id": "70c21ad7-4d53-4664-a25a-1a44e72b00c6",
   "metadata": {},
   "outputs": [],
   "source": [
    "def encode_df(sequences, method):\n",
    "    \n",
    "    documents = [' '.join(map(str, sequence)) for sequence in sequences]\n",
    "    \n",
    "    if method == 'tfidf':\n",
    "        tv = TfidfVectorizer()\n",
    "        tfidf_matrix = tv.fit_transform(documents)\n",
    "        encoded_df = pd.DataFrame(tfidf_matrix.toarray(), columns=[f\"event_{feature}\" for feature in tv.get_feature_names_out()])\n",
    "        return encoded_df\n",
    "    elif method == 'onehot':\n",
    "        cv = CountVectorizer(binary=True)\n",
    "        count_matrix = cv.fit_transform(documents)\n",
    "        encoded_df = pd.DataFrame(count_matrix.toarray(), columns=[f\"event_{feature}\" for feature in cv.get_feature_names_out()])\n",
    "        return encoded_df\n",
    "    else:\n",
    "        return None"
   ]
  },
  {
   "cell_type": "markdown",
   "id": "f80be938-dfca-4fa7-9c2e-b740c1a59a5f",
   "metadata": {},
   "source": [
    "## Model Evaluation\n",
    "\n",
    "Must make sure we have relevant evaluation to correctly asses performances.\n",
    "\n",
    "**4-fold stratified cross validation**:\n",
    "+ cross validation since small dataset (train/test split risks being less reliable)\n",
    "+ stratified since heavy imbalance, ensures each validation fold has same distribution so no minority class exclusion (more representative).\n",
    "+ 4-fold since least populated class has only 4 records, even with stratified sampling ensures no minority class exclusion in validation folds (otherwise not representative)\n",
    "\n",
    "**Metrics**:\n",
    "+ f1-macro: each class equally important regardless of frequency\n",
    "+ (accuracy: for informative purpose not used to asses perfromance, missleading due to heavy class imbalance)"
   ]
  },
  {
   "cell_type": "code",
   "execution_count": 9,
   "id": "04526d0e-cc6f-49c9-9267-828c9c7c34b3",
   "metadata": {},
   "outputs": [],
   "source": [
    "scoring = {\n",
    "    'accuracy': 'accuracy',\n",
    "    'f1_macro': 'f1_macro',\n",
    "}\n",
    "\n",
    "skf = StratifiedKFold(n_splits=4, shuffle=True, random_state=0)\n",
    "\n",
    "def get_score(X, y, model, scoring=scoring, skf=skf):\n",
    "    results = cross_validate(model, X, y, cv=skf, scoring=scoring, return_train_score=False)\n",
    "    f1_macro = results['test_f1_macro'].mean()\n",
    "    accuracy = results['test_accuracy'].mean()\n",
    "    return f1_macro, accuracy\n",
    "    \n",
    "def get_scores(X, y, names, models, scoring=scoring, skf=skf):\n",
    "    scores_df = pd.DataFrame()\n",
    "    accuracies = []\n",
    "    macro_f1_scores = []\n",
    "\n",
    "    for model in models:\n",
    "        f1_macro, accuracy = get_score(X,y,model)\n",
    "        macro_f1_scores.append(f1_macro)\n",
    "        accuracies.append(accuracy)\n",
    "\n",
    "    scores_df[\"Classifier\"], scores_df[\"F1-macro\"], scores_df[\"Accuracy\"] = names, macro_f1_scores, accuracies\n",
    "    scores_df.sort_values(by = 'F1-macro', ascending = False, inplace = True)\n",
    "    return scores_df"
   ]
  },
  {
   "cell_type": "markdown",
   "id": "8f3dafbf-caa5-4527-98c8-13d4ec1a4655",
   "metadata": {},
   "source": [
    "## Baseline models on encodings\n",
    "\n",
    "+ KNN\n",
    "+ Multinomial NB\n",
    "+ Bernoulli NB\n",
    "+ Decision Tree\n",
    "+ Random Forest\n",
    "+ Linear SVC\n",
    "+ XGBoost"
   ]
  },
  {
   "cell_type": "code",
   "execution_count": 10,
   "id": "f061ef59-5838-4594-9dec-efc01b65a773",
   "metadata": {},
   "outputs": [],
   "source": [
    "# Classifiers\n",
    "names = [\n",
    "    \"KNN\",\n",
    "    \"Multinomial NB\",\n",
    "    \"Bernoulli NB\",\n",
    "    \"Decision Tree\",\n",
    "    \"Random Forest\",\n",
    "    \"Linear SVM\",\n",
    "    \"XGBoost\"\n",
    "]\n",
    "\n",
    "models = [\n",
    "    KNeighborsClassifier(),\n",
    "    MultinomialNB(),\n",
    "    BernoulliNB(),\n",
    "    DecisionTreeClassifier(),\n",
    "    RandomForestClassifier(random_state=0),\n",
    "    SVC(kernel = 'linear'),\n",
    "    XGBClassifier(),\n",
    "]"
   ]
  },
  {
   "cell_type": "code",
   "execution_count": 11,
   "id": "dfe14baa-816a-4626-b74f-939011bf36f0",
   "metadata": {},
   "outputs": [],
   "source": [
    "# different encodings\n",
    "one_hot_df = encode_df(df['events_sequence'], 'onehot')\n",
    "tfidf_df = encode_df(df['events_sequence'], 'tfidf')\n",
    "\n",
    "# X/y\n",
    "X_onehot = one_hot_df\n",
    "X_tfidf = tfidf_df\n",
    "\n",
    "y = LabelEncoder().fit_transform(df.incident_type)"
   ]
  },
  {
   "cell_type": "code",
   "execution_count": 13,
   "id": "bcb9cf9e-3c50-4f18-89a5-84616c92c5c3",
   "metadata": {},
   "outputs": [
    {
     "data": {
      "text/html": [
       "<div>\n",
       "<style scoped>\n",
       "    .dataframe tbody tr th:only-of-type {\n",
       "        vertical-align: middle;\n",
       "    }\n",
       "\n",
       "    .dataframe tbody tr th {\n",
       "        vertical-align: top;\n",
       "    }\n",
       "\n",
       "    .dataframe thead th {\n",
       "        text-align: right;\n",
       "    }\n",
       "</style>\n",
       "<table border=\"1\" class=\"dataframe\">\n",
       "  <thead>\n",
       "    <tr style=\"text-align: right;\">\n",
       "      <th></th>\n",
       "      <th>Classifier</th>\n",
       "      <th>F1-macro</th>\n",
       "      <th>Accuracy</th>\n",
       "    </tr>\n",
       "  </thead>\n",
       "  <tbody>\n",
       "    <tr>\n",
       "      <th>6</th>\n",
       "      <td>XGBoost</td>\n",
       "      <td>0.357388</td>\n",
       "      <td>0.666710</td>\n",
       "    </tr>\n",
       "    <tr>\n",
       "      <th>5</th>\n",
       "      <td>Linear SVM</td>\n",
       "      <td>0.341002</td>\n",
       "      <td>0.628164</td>\n",
       "    </tr>\n",
       "    <tr>\n",
       "      <th>1</th>\n",
       "      <td>Multinomial NB</td>\n",
       "      <td>0.326718</td>\n",
       "      <td>0.628090</td>\n",
       "    </tr>\n",
       "    <tr>\n",
       "      <th>4</th>\n",
       "      <td>Random Forest</td>\n",
       "      <td>0.316847</td>\n",
       "      <td>0.651856</td>\n",
       "    </tr>\n",
       "    <tr>\n",
       "      <th>2</th>\n",
       "      <td>Bernoulli NB</td>\n",
       "      <td>0.309618</td>\n",
       "      <td>0.600422</td>\n",
       "    </tr>\n",
       "    <tr>\n",
       "      <th>3</th>\n",
       "      <td>Decision Tree</td>\n",
       "      <td>0.291015</td>\n",
       "      <td>0.557900</td>\n",
       "    </tr>\n",
       "    <tr>\n",
       "      <th>0</th>\n",
       "      <td>KNN</td>\n",
       "      <td>0.218250</td>\n",
       "      <td>0.490620</td>\n",
       "    </tr>\n",
       "  </tbody>\n",
       "</table>\n",
       "</div>"
      ],
      "text/plain": [
       "       Classifier  F1-macro  Accuracy\n",
       "6         XGBoost  0.357388  0.666710\n",
       "5      Linear SVM  0.341002  0.628164\n",
       "1  Multinomial NB  0.326718  0.628090\n",
       "4   Random Forest  0.316847  0.651856\n",
       "2    Bernoulli NB  0.309618  0.600422\n",
       "3   Decision Tree  0.291015  0.557900\n",
       "0             KNN  0.218250  0.490620"
      ]
     },
     "execution_count": 13,
     "metadata": {},
     "output_type": "execute_result"
    }
   ],
   "source": [
    "get_scores(X_onehot, y, names, models)"
   ]
  },
  {
   "cell_type": "code",
   "execution_count": 14,
   "id": "d5f34a02-93f5-4219-9337-1d4376348359",
   "metadata": {},
   "outputs": [
    {
     "data": {
      "text/html": [
       "<div>\n",
       "<style scoped>\n",
       "    .dataframe tbody tr th:only-of-type {\n",
       "        vertical-align: middle;\n",
       "    }\n",
       "\n",
       "    .dataframe tbody tr th {\n",
       "        vertical-align: top;\n",
       "    }\n",
       "\n",
       "    .dataframe thead th {\n",
       "        text-align: right;\n",
       "    }\n",
       "</style>\n",
       "<table border=\"1\" class=\"dataframe\">\n",
       "  <thead>\n",
       "    <tr style=\"text-align: right;\">\n",
       "      <th></th>\n",
       "      <th>Classifier</th>\n",
       "      <th>F1-macro</th>\n",
       "      <th>Accuracy</th>\n",
       "    </tr>\n",
       "  </thead>\n",
       "  <tbody>\n",
       "    <tr>\n",
       "      <th>6</th>\n",
       "      <td>XGBoost</td>\n",
       "      <td>0.351773</td>\n",
       "      <td>0.633078</td>\n",
       "    </tr>\n",
       "    <tr>\n",
       "      <th>2</th>\n",
       "      <td>Bernoulli NB</td>\n",
       "      <td>0.309618</td>\n",
       "      <td>0.600422</td>\n",
       "    </tr>\n",
       "    <tr>\n",
       "      <th>4</th>\n",
       "      <td>Random Forest</td>\n",
       "      <td>0.305150</td>\n",
       "      <td>0.631109</td>\n",
       "    </tr>\n",
       "    <tr>\n",
       "      <th>3</th>\n",
       "      <td>Decision Tree</td>\n",
       "      <td>0.264770</td>\n",
       "      <td>0.520277</td>\n",
       "    </tr>\n",
       "    <tr>\n",
       "      <th>0</th>\n",
       "      <td>KNN</td>\n",
       "      <td>0.198053</td>\n",
       "      <td>0.417420</td>\n",
       "    </tr>\n",
       "    <tr>\n",
       "      <th>5</th>\n",
       "      <td>Linear SVM</td>\n",
       "      <td>0.138976</td>\n",
       "      <td>0.399606</td>\n",
       "    </tr>\n",
       "    <tr>\n",
       "      <th>1</th>\n",
       "      <td>Multinomial NB</td>\n",
       "      <td>0.068726</td>\n",
       "      <td>0.344211</td>\n",
       "    </tr>\n",
       "  </tbody>\n",
       "</table>\n",
       "</div>"
      ],
      "text/plain": [
       "       Classifier  F1-macro  Accuracy\n",
       "6         XGBoost  0.351773  0.633078\n",
       "2    Bernoulli NB  0.309618  0.600422\n",
       "4   Random Forest  0.305150  0.631109\n",
       "3   Decision Tree  0.264770  0.520277\n",
       "0             KNN  0.198053  0.417420\n",
       "5      Linear SVM  0.138976  0.399606\n",
       "1  Multinomial NB  0.068726  0.344211"
      ]
     },
     "execution_count": 14,
     "metadata": {},
     "output_type": "execute_result"
    }
   ],
   "source": [
    "get_scores(X_tfidf, y, names, models)"
   ]
  },
  {
   "cell_type": "markdown",
   "id": "05a17235-6cac-4668-9ab0-053f72b1f2e1",
   "metadata": {},
   "source": [
    "**Poor performances** due to noise (see eda - event distribution)\n",
    "\n",
    "irrelevant and thus misleading information making harder for the model to learn the true patterns."
   ]
  },
  {
   "cell_type": "markdown",
   "id": "92ad63ac-6c98-447d-81a3-594f72361760",
   "metadata": {},
   "source": [
    "## Baseline models on encodings + noise filter\n",
    "#### filter most informative individual events (relevance metric $r = \\frac{h_{in\\_class}}{h_{in\\_all\\_classes}}$)"
   ]
  },
  {
   "cell_type": "code",
   "execution_count": 12,
   "id": "0e3fe883-5264-4d0c-acb9-1038dff00a6a",
   "metadata": {},
   "outputs": [],
   "source": [
    "# compute frequencies in dicts\n",
    "def compute_frequencies():\n",
    "    h_in_class = defaultdict(lambda: defaultdict(int)) # auto create new defaultdict(int) when new key accessed \n",
    "    h_in_all_classes = defaultdict(int)\n",
    "\n",
    "    for index, row in df.iterrows():\n",
    "        events_seq = row['events_sequence']\n",
    "        incident = row['incident_type']\n",
    "        for event in events_seq:\n",
    "            h_in_class[event][incident]+=1\n",
    "            h_in_all_classes[event]+=1\n",
    "    \n",
    "    return h_in_class, h_in_all_classes\n",
    "    \n",
    "def rel_metric(event, incident):\n",
    "    return h_in_class[event][incident]/h_in_all_classes[event]\n",
    "\n",
    "# filter events based on rel. metric r\n",
    "def r_filter_df(t_r):\n",
    "    h_in_class, h_in_all_classes = compute_frequencies()\n",
    "    filtered_df = df.copy()\n",
    "    filtered_df['events_sequence'] = df.apply(lambda row: [event for event in row['events_sequence'] if (h_in_class[event][row['incident_type']]/h_in_all_classes[event]) >= t_r], axis=1)\n",
    "    return filtered_df"
   ]
  },
  {
   "cell_type": "code",
   "execution_count": 13,
   "id": "76ea27c8-c4dd-443b-a164-f88cde1d9fde",
   "metadata": {},
   "outputs": [],
   "source": [
    "t_r = 0.13 # filter metric treshold (tuned by hand)\n",
    "filtered_df = r_filter_df(t_r)\n",
    "\n",
    "# different encodings\n",
    "onehot_filt_df = encode_df(filtered_df['events_sequence'], 'onehot')\n",
    "tfidf_filt_df = encode_df(filtered_df['events_sequence'], 'tfidf')\n",
    "\n",
    "# X/y\n",
    "X_onehot_filt = onehot_filt_df\n",
    "X_tfidf_filt = tfidf_filt_df"
   ]
  },
  {
   "cell_type": "code",
   "execution_count": 51,
   "id": "18b48a09-4821-4bc0-a684-f672bc446ef6",
   "metadata": {},
   "outputs": [
    {
     "data": {
      "text/html": [
       "<div>\n",
       "<style scoped>\n",
       "    .dataframe tbody tr th:only-of-type {\n",
       "        vertical-align: middle;\n",
       "    }\n",
       "\n",
       "    .dataframe tbody tr th {\n",
       "        vertical-align: top;\n",
       "    }\n",
       "\n",
       "    .dataframe thead th {\n",
       "        text-align: right;\n",
       "    }\n",
       "</style>\n",
       "<table border=\"1\" class=\"dataframe\">\n",
       "  <thead>\n",
       "    <tr style=\"text-align: right;\">\n",
       "      <th></th>\n",
       "      <th>Classifier</th>\n",
       "      <th>F1-macro</th>\n",
       "      <th>Accuracy</th>\n",
       "    </tr>\n",
       "  </thead>\n",
       "  <tbody>\n",
       "    <tr>\n",
       "      <th>4</th>\n",
       "      <td>Random Forest</td>\n",
       "      <td>0.695602</td>\n",
       "      <td>0.969344</td>\n",
       "    </tr>\n",
       "    <tr>\n",
       "      <th>5</th>\n",
       "      <td>Linear SVM</td>\n",
       "      <td>0.658358</td>\n",
       "      <td>0.969340</td>\n",
       "    </tr>\n",
       "    <tr>\n",
       "      <th>3</th>\n",
       "      <td>Decision Tree</td>\n",
       "      <td>0.645778</td>\n",
       "      <td>0.948581</td>\n",
       "    </tr>\n",
       "    <tr>\n",
       "      <th>1</th>\n",
       "      <td>Multinomial NB</td>\n",
       "      <td>0.628533</td>\n",
       "      <td>0.969344</td>\n",
       "    </tr>\n",
       "    <tr>\n",
       "      <th>6</th>\n",
       "      <td>XGBoost</td>\n",
       "      <td>0.616154</td>\n",
       "      <td>0.964403</td>\n",
       "    </tr>\n",
       "    <tr>\n",
       "      <th>0</th>\n",
       "      <td>KNN</td>\n",
       "      <td>0.605413</td>\n",
       "      <td>0.930763</td>\n",
       "    </tr>\n",
       "    <tr>\n",
       "      <th>2</th>\n",
       "      <td>Bernoulli NB</td>\n",
       "      <td>0.531007</td>\n",
       "      <td>0.943641</td>\n",
       "    </tr>\n",
       "  </tbody>\n",
       "</table>\n",
       "</div>"
      ],
      "text/plain": [
       "       Classifier  F1-macro  Accuracy\n",
       "4   Random Forest  0.695602  0.969344\n",
       "5      Linear SVM  0.658358  0.969340\n",
       "3   Decision Tree  0.645778  0.948581\n",
       "1  Multinomial NB  0.628533  0.969344\n",
       "6         XGBoost  0.616154  0.964403\n",
       "0             KNN  0.605413  0.930763\n",
       "2    Bernoulli NB  0.531007  0.943641"
      ]
     },
     "execution_count": 51,
     "metadata": {},
     "output_type": "execute_result"
    }
   ],
   "source": [
    "get_scores(X_onehot_filt, y, names, models)"
   ]
  },
  {
   "cell_type": "code",
   "execution_count": 52,
   "id": "be9ebc33-6444-43d0-9dcb-48ea7bed3c69",
   "metadata": {},
   "outputs": [
    {
     "data": {
      "text/html": [
       "<div>\n",
       "<style scoped>\n",
       "    .dataframe tbody tr th:only-of-type {\n",
       "        vertical-align: middle;\n",
       "    }\n",
       "\n",
       "    .dataframe tbody tr th {\n",
       "        vertical-align: top;\n",
       "    }\n",
       "\n",
       "    .dataframe thead th {\n",
       "        text-align: right;\n",
       "    }\n",
       "</style>\n",
       "<table border=\"1\" class=\"dataframe\">\n",
       "  <thead>\n",
       "    <tr style=\"text-align: right;\">\n",
       "      <th></th>\n",
       "      <th>Classifier</th>\n",
       "      <th>F1-macro</th>\n",
       "      <th>Accuracy</th>\n",
       "    </tr>\n",
       "  </thead>\n",
       "  <tbody>\n",
       "    <tr>\n",
       "      <th>4</th>\n",
       "      <td>Random Forest</td>\n",
       "      <td>0.696893</td>\n",
       "      <td>0.967376</td>\n",
       "    </tr>\n",
       "    <tr>\n",
       "      <th>3</th>\n",
       "      <td>Decision Tree</td>\n",
       "      <td>0.623331</td>\n",
       "      <td>0.934724</td>\n",
       "    </tr>\n",
       "    <tr>\n",
       "      <th>6</th>\n",
       "      <td>XGBoost</td>\n",
       "      <td>0.612110</td>\n",
       "      <td>0.953526</td>\n",
       "    </tr>\n",
       "    <tr>\n",
       "      <th>2</th>\n",
       "      <td>Bernoulli NB</td>\n",
       "      <td>0.531007</td>\n",
       "      <td>0.943641</td>\n",
       "    </tr>\n",
       "    <tr>\n",
       "      <th>0</th>\n",
       "      <td>KNN</td>\n",
       "      <td>0.478160</td>\n",
       "      <td>0.781381</td>\n",
       "    </tr>\n",
       "    <tr>\n",
       "      <th>5</th>\n",
       "      <td>Linear SVM</td>\n",
       "      <td>0.455786</td>\n",
       "      <td>0.753725</td>\n",
       "    </tr>\n",
       "    <tr>\n",
       "      <th>1</th>\n",
       "      <td>Multinomial NB</td>\n",
       "      <td>0.319784</td>\n",
       "      <td>0.691382</td>\n",
       "    </tr>\n",
       "  </tbody>\n",
       "</table>\n",
       "</div>"
      ],
      "text/plain": [
       "       Classifier  F1-macro  Accuracy\n",
       "4   Random Forest  0.696893  0.967376\n",
       "3   Decision Tree  0.623331  0.934724\n",
       "6         XGBoost  0.612110  0.953526\n",
       "2    Bernoulli NB  0.531007  0.943641\n",
       "0             KNN  0.478160  0.781381\n",
       "5      Linear SVM  0.455786  0.753725\n",
       "1  Multinomial NB  0.319784  0.691382"
      ]
     },
     "execution_count": 52,
     "metadata": {},
     "output_type": "execute_result"
    }
   ],
   "source": [
    "get_scores(X_tfidf_filt, y, names, models)"
   ]
  },
  {
   "cell_type": "markdown",
   "id": "9a0d7475-449b-466d-a9fe-403b73a3e68a",
   "metadata": {},
   "source": [
    "#### Noise filtering issue\n",
    " \n",
    "Better performances but some sequences are filtered out leading do random guesses (bound f1 macro score)"
   ]
  },
  {
   "cell_type": "code",
   "execution_count": 14,
   "id": "b765f994-9e7a-4c4c-ab4b-989df7540053",
   "metadata": {},
   "outputs": [
    {
     "name": "stdout",
     "output_type": "stream",
     "text": [
      "13 events sequence filtered out with t_r = 0.13\n"
     ]
    }
   ],
   "source": [
    "filtered_out_df = filtered_df[filtered_df['events_sequence'].apply(len) == 0]\n",
    "print(f\"{filtered_out_df.shape[0]} events sequence filtered out with t_r = {t_r}\")"
   ]
  },
  {
   "cell_type": "code",
   "execution_count": 15,
   "id": "482ec99c-df85-4c43-9a8b-2fbfc602e4d2",
   "metadata": {
    "scrolled": true
   },
   "outputs": [
    {
     "data": {
      "text/plain": [
       "<Axes: xlabel='incident_type'>"
      ]
     },
     "execution_count": 15,
     "metadata": {},
     "output_type": "execute_result"
    },
    {
     "data": {
      "image/png": "[encoded data removed]",
      "text/plain": [
       "<Figure size 640x480 with 1 Axes>"
      ]
     },
     "metadata": {},
     "output_type": "display_data"
    }
   ],
   "source": [
    "filtered_out_df['incident_type'].value_counts().plot(kind= 'bar')"
   ]
  },
  {
   "cell_type": "markdown",
   "id": "947832fc-7aeb-4521-887d-2a2c6fef305e",
   "metadata": {},
   "source": [
    "Class '16' is even filtered out completely (4/4) !"
   ]
  },
  {
   "cell_type": "markdown",
   "id": "b2d300ea-34ab-44b8-8f36-ca9e95117c16",
   "metadata": {},
   "source": [
    "## Random Forest on One-hot + noise filter + context features\n",
    "\n",
    "Focus and best performing model, **random forest, and one-hot encoding** which aligns more with it (**effective splits** - tue or false)"
   ]
  },
  {
   "cell_type": "markdown",
   "id": "f3562fa2-aab2-4aab-bc23-98c6b105fc39",
   "metadata": {},
   "source": [
    "First we get insight on random forest with one-hot encoding, by generating the **aggregate confusion matrix** of all k predictions (folds)"
   ]
  },
  {
   "cell_type": "code",
   "execution_count": 16,
   "id": "a715df4b-9bf1-42db-80df-d3f22a4a00ab",
   "metadata": {},
   "outputs": [
    {
     "name": "stdout",
     "output_type": "stream",
     "text": [
      "Confusion Matrix:\n",
      " [[116   0   0   0   0   0   0   2   0   0   0   1]\n",
      " [  0   0   0   1   0   0   0   0   0   4   0   0]\n",
      " [  0   0  78   0   0   0   0   0   0   0   0   0]\n",
      " [  0   1   0   0   0   0   0   0   0   5   0   0]\n",
      " [  0   0   0   0   2   0   0   0   0   2   0   0]\n",
      " [  0   0   0   0   0 117   0   0   0   0   0   0]\n",
      " [  0   0   0   2   0   0  19   0   0   5   0   0]\n",
      " [  0   0   0   0   0   0   0 315   3   0   0   0]\n",
      " [  0   0   0   0   0   0   0   0 147   0   0   2]\n",
      " [  0   1   0   0   0   0   0   0   0   3   0   0]\n",
      " [  0   0   0   0   0   0   0   0   0   2   8   0]\n",
      " [  0   0   0   0   0   0   0   0   0   0   0 175]]\n",
      "\n",
      "Classification Report:\n",
      "               precision    recall  f1-score   support\n",
      "\n",
      "           2       1.00      0.97      0.99       119\n",
      "           3       0.00      0.00      0.00         5\n",
      "           4       1.00      1.00      1.00        78\n",
      "           6       0.00      0.00      0.00         6\n",
      "           7       1.00      0.50      0.67         4\n",
      "           9       1.00      1.00      1.00       117\n",
      "          11       1.00      0.73      0.84        26\n",
      "          13       0.99      0.99      0.99       318\n",
      "          14       0.98      0.99      0.98       149\n",
      "          16       0.14      0.75      0.24         4\n",
      "          17       1.00      0.80      0.89        10\n",
      "          99       0.98      1.00      0.99       175\n",
      "\n",
      "    accuracy                           0.97      1011\n",
      "   macro avg       0.76      0.73      0.72      1011\n",
      "weighted avg       0.98      0.97      0.97      1011\n",
      "\n"
     ]
    }
   ],
   "source": [
    "def cross_validation_conf_matrix(X, y, skf=skf):\n",
    "    y_true_all = []\n",
    "    y_pred_all = []\n",
    "    \n",
    "    # Perform cross-validation\n",
    "    for train_index, test_index in skf.split(X, y):\n",
    "        X_train, X_test = X.iloc[train_index], X.iloc[test_index]\n",
    "        y_train, y_test = y[train_index], y[test_index]\n",
    "        \n",
    "        # Train the model\n",
    "        clf = RandomForestClassifier(random_state=0)\n",
    "        clf.fit(X_train, y_train)\n",
    "        \n",
    "        # Predict on the test set\n",
    "        y_pred = clf.predict(X_test)\n",
    "        \n",
    "        # Store results\n",
    "        y_true_all.extend(y_test)\n",
    "        y_pred_all.extend(y_pred)\n",
    "    \n",
    "    # Generate the confusion matrix\n",
    "    cm = confusion_matrix(y_true_all, y_pred_all)\n",
    "    print(\"Confusion Matrix:\\n\", cm)\n",
    "    \n",
    "    # Optional: Display classification report\n",
    "    print(\"\\nClassification Report:\\n\", classification_report(y_true_all, y_pred_all))\n",
    "\n",
    "# use df['incident_type'] to get original incident ids instead of label encoded ones for readability\n",
    "cross_validation_conf_matrix(X_onehot_filt, df['incident_type'])"
   ]
  },
  {
   "cell_type": "markdown",
   "id": "f0e24a4b-0263-467e-b66e-332ae0787747",
   "metadata": {},
   "source": [
    "#### Results analysis\n",
    "\n",
    "class 3/6:\n",
    "+ total failure\n",
    "\n",
    "class 16:\n",
    "+ low precision: records are missclassified as class 16\n",
    "+ higher recall: 75% of class 16 records are detected\n",
    "\n",
    "Observation: class 16 high recall can be explaned by the fact that it was completely filtered out, so an event sequence full of False is associated to this class, this is why classes 3 and 6 are missclassified (FP) as class 16 most of the times.\n",
    "\n",
    "**Conclusions**:\n",
    "Model struggles at identifying filtered out classes (3/6/16)"
   ]
  },
  {
   "cell_type": "markdown",
   "id": "7a0e09f4-e816-4ac1-878d-7795d5bee4b9",
   "metadata": {},
   "source": [
    "#### Add context features to have additional information for filtered out sequences.\n",
    "\n",
    "+ speed\n",
    "+ ac/dc states\n",
    "+ vehicles\n",
    "\n",
    "Context is introduced as encoded treshold features for same reason as onehot, that it performs best for tree based models (better splits)."
   ]
  },
  {
   "cell_type": "code",
   "execution_count": 17,
   "id": "e520f5a7-02f1-432a-9273-4d691e1a322b",
   "metadata": {},
   "outputs": [],
   "source": [
    "# df['max_speed'] = df['train_kph_sequence'].apply(max)\n",
    "# class_speeds = df.groupby('incident_type')['max_speed'].max()\n",
    "\n",
    "# class_speeds.plot(kind='bar', figsize=(10, 6), color='skyblue', edgecolor='black')\n",
    "# plt.title(\"Average max speed by Incident Type\")\n",
    "# plt.xlabel(\"Incident Type\")\n",
    "# plt.ylabel(\"Average max Speed (kph)\")\n",
    "# plt.show()"
   ]
  },
  {
   "cell_type": "code",
   "execution_count": 18,
   "id": "2b2c61a9-5e1e-407d-b819-8e5ddec74491",
   "metadata": {},
   "outputs": [],
   "source": [
    "import pandas as pd\n",
    "import numpy as np\n",
    "\n",
    "def categorize_speed(speed):\n",
    "    if speed < 30:\n",
    "        return 0\n",
    "    elif speed < 50:\n",
    "        return 1\n",
    "    elif speed < 80:\n",
    "        return 2\n",
    "    else:\n",
    "        return 3\n",
    "\n",
    "def categorize_dj(dj_ratio):\n",
    "    if dj_ratio < 0.1:\n",
    "        return 0\n",
    "    elif dj_ratio < 0.3:\n",
    "        return 1\n",
    "    elif dj_ratio < 0.5:\n",
    "        return 2\n",
    "    elif dj_ratio < 0.7:\n",
    "        return 3\n",
    "    else:\n",
    "        return 4\n",
    "\n",
    "def categorize_deviation(dev):\n",
    "    return 0 if dev < 15 else 1\n",
    "\n",
    "def gen_context_df(df):\n",
    "    context_df = pd.DataFrame()\n",
    "\n",
    "    # Add speed-related context features\n",
    "    context_df['max_speed'] = df['train_kph_sequence'].apply(lambda x: categorize_speed(max(x)))\n",
    "    \n",
    "    context_df['min_speed'] = df['train_kph_sequence'].apply(lambda x: categorize_speed(min(x)))\n",
    "    context_df['speed_dev'] = df['train_kph_sequence'].apply(lambda x: categorize_deviation(np.std(x)) if len(x) > 0 else categorize_deviation(0))\n",
    "    \n",
    "    # Add power source state features\n",
    "    context_df['ac_state_ratio'] = df['dj_ac_state_sequence'].apply(lambda x: categorize_dj(sum(x)/len(x)))\n",
    "    context_df['dc_state_ratio'] = df['dj_dc_state_sequence'].apply(lambda x: categorize_dj(sum(x)/len(x)))\n",
    "    \n",
    "    context_df['energy_switch'] = df.apply(lambda row: any(row['dj_ac_state_sequence']) and any(row['dj_dc_state_sequence']), axis=1)\n",
    "    context_df['ac_state'] = df['dj_ac_state_sequence'].apply(lambda x: any(x))\n",
    "    context_df['dc_state'] = df['dj_dc_state_sequence'].apply(lambda x: any(x))\n",
    "    \n",
    "    return context_df"
   ]
  },
  {
   "cell_type": "markdown",
   "id": "b2049817-54f8-4ebd-ae33-7b1f96e8d56a",
   "metadata": {},
   "source": [
    "TODO: treshold context to specificaly differentiate classss 3/6/16, through features distribution exploration (leakage ?)"
   ]
  },
  {
   "cell_type": "code",
   "execution_count": 25,
   "id": "a5fe2412-f79a-4428-9aaf-ec8f7dc468c4",
   "metadata": {},
   "outputs": [
    {
     "name": "stdout",
     "output_type": "stream",
     "text": [
      "Low importance features: ['min_speed', 'speed_dev', 'energy_switch', 'ac_state', 'dc_state']\n"
     ]
    }
   ],
   "source": [
    "# context features\n",
    "context_df = gen_context_df(filtered_df)\n",
    "\n",
    "# keep most relevant context features\n",
    "rf_clf = RandomForestClassifier(random_state=0)\n",
    "rf_clf.fit(context_df, y)\n",
    "feature_importances = pd.Series(rf_clf.feature_importances_, index=context_df.columns)\n",
    "low_importance_features = feature_importances[feature_importances < 0.1].index\n",
    "print(f\"Low importance features: {list(low_importance_features)}\")\n",
    "context_df = context_df.drop(columns=low_importance_features)"
   ]
  },
  {
   "cell_type": "code",
   "execution_count": 26,
   "id": "9d2fca1b-5744-448b-8dd4-3150bfd62806",
   "metadata": {},
   "outputs": [],
   "source": [
    "# X/y\n",
    "X_onehot_filt_cntxt = pd.concat([onehot_filt_df, context_df], axis=1)"
   ]
  },
  {
   "cell_type": "code",
   "execution_count": 29,
   "id": "5622af39-731d-4894-b31c-4711b4d5a755",
   "metadata": {},
   "outputs": [
    {
     "data": {
      "text/html": [
       "<div>\n",
       "<style scoped>\n",
       "    .dataframe tbody tr th:only-of-type {\n",
       "        vertical-align: middle;\n",
       "    }\n",
       "\n",
       "    .dataframe tbody tr th {\n",
       "        vertical-align: top;\n",
       "    }\n",
       "\n",
       "    .dataframe thead th {\n",
       "        text-align: right;\n",
       "    }\n",
       "</style>\n",
       "<table border=\"1\" class=\"dataframe\">\n",
       "  <thead>\n",
       "    <tr style=\"text-align: right;\">\n",
       "      <th></th>\n",
       "      <th>Classifier</th>\n",
       "      <th>F1-macro</th>\n",
       "      <th>Accuracy</th>\n",
       "    </tr>\n",
       "  </thead>\n",
       "  <tbody>\n",
       "    <tr>\n",
       "      <th>0</th>\n",
       "      <td>OneHot</td>\n",
       "      <td>0.741584</td>\n",
       "      <td>0.976273</td>\n",
       "    </tr>\n",
       "  </tbody>\n",
       "</table>\n",
       "</div>"
      ],
      "text/plain": [
       "  Classifier  F1-macro  Accuracy\n",
       "0     OneHot  0.741584  0.976273"
      ]
     },
     "execution_count": 29,
     "metadata": {},
     "output_type": "execute_result"
    }
   ],
   "source": [
    "get_scores(X_onehot_filt_cntxt, y, ['OneHot'], [rf_clf])"
   ]
  },
  {
   "cell_type": "code",
   "execution_count": 22,
   "id": "eceec3de-d52a-4f32-b23b-0fe1a2e541c5",
   "metadata": {},
   "outputs": [
    {
     "name": "stdout",
     "output_type": "stream",
     "text": [
      "Confusion Matrix:\n",
      " [[117   0   0   0   0   0   0   1   0   0   0   1]\n",
      " [  0   0   0   1   0   0   1   0   0   3   0   0]\n",
      " [  0   0  78   0   0   0   0   0   0   0   0   0]\n",
      " [  0   1   0   2   0   0   0   0   0   3   0   0]\n",
      " [  0   1   0   0   2   0   0   0   0   1   0   0]\n",
      " [  0   0   0   0   0 117   0   0   0   0   0   0]\n",
      " [  0   3   0   0   0   0  21   0   0   2   0   0]\n",
      " [  0   0   0   0   0   0   0 316   2   0   0   0]\n",
      " [  0   0   0   0   0   0   0   0 147   0   0   2]\n",
      " [  0   0   0   0   0   0   0   0   0   4   0   0]\n",
      " [  0   0   0   0   0   0   0   0   0   2   8   0]\n",
      " [  0   0   0   0   0   0   0   0   0   0   0 175]]\n",
      "\n",
      "Classification Report:\n",
      "               precision    recall  f1-score   support\n",
      "\n",
      "           2       1.00      0.98      0.99       119\n",
      "           3       0.00      0.00      0.00         5\n",
      "           4       1.00      1.00      1.00        78\n",
      "           6       0.67      0.33      0.44         6\n",
      "           7       1.00      0.50      0.67         4\n",
      "           9       1.00      1.00      1.00       117\n",
      "          11       0.95      0.81      0.88        26\n",
      "          13       1.00      0.99      1.00       318\n",
      "          14       0.99      0.99      0.99       149\n",
      "          16       0.27      1.00      0.42         4\n",
      "          17       1.00      0.80      0.89        10\n",
      "          99       0.98      1.00      0.99       175\n",
      "\n",
      "    accuracy                           0.98      1011\n",
      "   macro avg       0.82      0.78      0.77      1011\n",
      "weighted avg       0.98      0.98      0.98      1011\n",
      "\n"
     ]
    }
   ],
   "source": [
    "cross_validation_conf_matrix(X_onehot_filt_cntxt, df['incident_type'])"
   ]
  },
  {
   "cell_type": "markdown",
   "id": "3900f04e-9d7c-441c-9ffa-6de68cf6bf56",
   "metadata": {},
   "source": [
    "Context leads to better performances as expected:\n",
    "+ class 6 recall: 1/3 of class 6 records are detected (originally 0)\n",
    "+ class 16 recall: every class 16 records correctly detected (originally 0.75)\n",
    "\n",
    "Issue of class 3/6 miss classified as 16 still remaining."
   ]
  },
  {
   "cell_type": "markdown",
   "id": "8b95dda5-05a5-47f0-83ef-aec8ed1bfc6f",
   "metadata": {},
   "source": [
    "#### Hyperparametre tune random forest"
   ]
  },
  {
   "cell_type": "code",
   "execution_count": 201,
   "id": "bd0bcfad-be96-461e-9bbf-67c8c6201658",
   "metadata": {},
   "outputs": [
    {
     "name": "stdout",
     "output_type": "stream",
     "text": [
      "Fitting 4 folds for each of 216 candidates, totalling 864 fits\n"
     ]
    },
    {
     "name": "stderr",
     "output_type": "stream",
     "text": [
      "C:\\Users\\Hilal\\AppData\\Local\\Programs\\Python\\Python312\\Lib\\site-packages\\numpy\\ma\\core.py:2820: RuntimeWarning: invalid value encountered in cast\n",
      "  _data = np.array(data, dtype=dtype, copy=copy,\n"
     ]
    },
    {
     "name": "stdout",
     "output_type": "stream",
     "text": [
      "Best parameters: {'max_depth': None, 'max_features': 'log2', 'min_samples_leaf': 1, 'min_samples_split': 2, 'n_estimators': 100, 'random_state': 0}\n",
      "Best F1 Macro score: 0.7429697359699684\n"
     ]
    }
   ],
   "source": [
    "param_grid = {\n",
    "    'n_estimators': [100, 200, 300],\n",
    "    'max_depth': [None, 10, 20, 30],\n",
    "    'min_samples_split': [2, 5, 10],\n",
    "    'min_samples_leaf': [1, 2, 4],\n",
    "    'max_features': ['sqrt', 'log2'],\n",
    "    'random_state': [0]\n",
    "}\n",
    "\n",
    "rf_clf = RandomForestClassifier()\n",
    "grid_search = GridSearchCV(estimator=rf_clf, param_grid=param_grid, cv=skf, scoring='f1_macro', verbose=2, n_jobs=-1)\n",
    "grid_search.fit(X_onehot_filt_cntxt, y)\n",
    "\n",
    "print(\"Best parameters:\", grid_search.best_params_)\n",
    "print(\"Best F1 Macro score:\", grid_search.best_score_)"
   ]
  },
  {
   "cell_type": "markdown",
   "id": "d0e90ae8-6384-4755-ab69-2cee4cde58ea",
   "metadata": {},
   "source": [
    "No major improvements\n",
    "\n",
    "Solution: Better feature engeneering to handle class 16 precision, but risk of overfitting especially with minority classes."
   ]
  },
  {
   "cell_type": "code",
   "execution_count": null,
   "id": "2ddb1d4d-8625-40bf-afad-683734fdc34b",
   "metadata": {},
   "outputs": [],
   "source": []
  }
 ],
 "metadata": {
  "kernelspec": {
   "display_name": "Python 3 (ipykernel)",
   "language": "python",
   "name": "python3"
  },
  "language_info": {
   "codemirror_mode": {
    "name": "ipython",
    "version": 3
   },
   "file_extension": ".py",
   "mimetype": "text/x-python",
   "name": "python",
   "nbconvert_exporter": "python",
   "pygments_lexer": "ipython3",
   "version": "3.12.0"
  }
 },
 "nbformat": 4,
 "nbformat_minor": 5
}
