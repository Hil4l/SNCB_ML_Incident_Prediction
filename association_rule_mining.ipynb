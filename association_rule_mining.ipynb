{
 "cells": [
  {
   "cell_type": "code",
   "execution_count": 4,
   "id": "34d83b19-6b9e-43dc-89ef-2e125117725d",
   "metadata": {},
   "outputs": [],
   "source": [
    "# pip install numpy pandas mlxtend"
   ]
  },
  {
   "cell_type": "code",
   "execution_count": 1,
   "id": "ca181134-6589-4dd4-8f12-c23811c529d8",
   "metadata": {},
   "outputs": [],
   "source": [
    "from mlxtend.frequent_patterns import fpmax\n",
    "from mlxtend.preprocessing import TransactionEncoder\n",
    "import pandas as pd"
   ]
  },
  {
   "cell_type": "code",
   "execution_count": 5,
   "id": "8e143291-de35-42de-b554-e96d4bbb7f7a",
   "metadata": {},
   "outputs": [],
   "source": [
    "df = pd.read_csv('data/sncb_data_challenge.csv', delimiter=';')"
   ]
  },
  {
   "cell_type": "code",
   "execution_count": 6,
   "id": "4b3d9d4e-3eab-48fc-bd52-ee7f1fb7f47b",
   "metadata": {},
   "outputs": [
    {
     "name": "stdout",
     "output_type": "stream",
     "text": [
      "<class 'pandas.core.frame.DataFrame'>\n",
      "RangeIndex: 1011 entries, 0 to 1010\n",
      "Data columns (total 11 columns):\n",
      " #   Column                        Non-Null Count  Dtype  \n",
      "---  ------                        --------------  -----  \n",
      " 0   Unnamed: 0                    1011 non-null   int64  \n",
      " 1   incident_id                   1011 non-null   int64  \n",
      " 2   vehicles_sequence             1011 non-null   object \n",
      " 3   events_sequence               1011 non-null   object \n",
      " 4   seconds_to_incident_sequence  1011 non-null   object \n",
      " 5   approx_lat                    1011 non-null   float64\n",
      " 6   approx_lon                    1011 non-null   float64\n",
      " 7   train_kph_sequence            1011 non-null   object \n",
      " 8   dj_ac_state_sequence          1011 non-null   object \n",
      " 9   dj_dc_state_sequence          1011 non-null   object \n",
      " 10  incident_type                 1011 non-null   int64  \n",
      "dtypes: float64(2), int64(3), object(6)\n",
      "memory usage: 87.0+ KB\n"
     ]
    }
   ],
   "source": [
    "df.info()"
   ]
  },
  {
   "cell_type": "markdown",
   "id": "08c11cba-0278-4a12-9bf1-a21307aeb7ba",
   "metadata": {},
   "source": [
    "### Note:\n",
    "Follow **CRISP-DM** methodology\n",
    "\n",
    "todo:\n",
    "- data exploration ?\n",
    "- data preprocessing (lists as objects ? - clean data)\n",
    "- itemset preprocessing (one hot encoding)\n",
    "- **multi level preprocessing**\n",
    "- mlextend frequent itemsets (fpgrowth) and association rules\n",
    "- rule evaluation (lift, corelation - see course), **justify metrics used** !!\n",
    "- ()"
   ]
  },
  {
   "cell_type": "code",
   "execution_count": null,
   "id": "4437007d-c7cb-423d-adba-22d54fe7e74e",
   "metadata": {},
   "outputs": [],
   "source": []
  }
 ],
 "metadata": {
  "kernelspec": {
   "display_name": "Python 3 (ipykernel)",
   "language": "python",
   "name": "python3"
  },
  "language_info": {
   "codemirror_mode": {
    "name": "ipython",
    "version": 3
   },
   "file_extension": ".py",
   "mimetype": "text/x-python",
   "name": "python",
   "nbconvert_exporter": "python",
   "pygments_lexer": "ipython3",
   "version": "3.12.0"
  }
 },
 "nbformat": 4,
 "nbformat_minor": 5
}
